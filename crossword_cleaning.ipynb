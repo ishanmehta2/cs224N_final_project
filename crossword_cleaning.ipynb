{
 "cells": [
  {
   "cell_type": "code",
   "execution_count": 1,
   "id": "f6adcfd6",
   "metadata": {},
   "outputs": [],
   "source": [
    "import numpy as np"
   ]
  },
  {
   "cell_type": "code",
   "execution_count": 2,
   "id": "9b8ec484",
   "metadata": {},
   "outputs": [
    {
     "name": "stdout",
     "output_type": "stream",
     "text": [
      "{'acrossmap': None, 'admin': False, 'answers': {'across': ['HERB', 'CROW', 'HAVE', 'AMOR', 'HOPE', 'TOLET', 'LIBERATED', 'INLET', 'ELEVATOR', 'LOIRE', 'RYDER', 'ASTERN', 'EASTER', 'IVAN', 'ASP', 'FLEECE', 'NANA', 'DELAYED', 'UNAGING', 'IRAN', 'GUARDS', 'NAY', 'TEST', 'ACCESS', 'TENREC', 'ETAPE', 'STELE', 'REASONER', 'TOROS', 'TELLSOVER', 'ADEPT', 'ETAL', 'LIVE', 'RODE', 'DENY', 'SLED'], 'down': ['HALER', 'EMILY', 'ROBED', 'BREVE', 'CHAT', 'ROTO', 'OPERATE', 'WED', 'HONORING', 'ALLINVAIN', 'VEER', 'ETTE', 'TILE', 'RAREFY', 'SECURE', 'TRENDS', 'ALEGAR', 'SEDUCE', 'ANNA', 'NAGY', 'ADIT', 'SERE', 'PLASTERED', 'ANTELOPE', 'ASSESS', 'ACCRETE', 'NEST', 'TOOLS', 'ANVIL', 'PEEVE', 'ERRED', 'STAR', 'TODO', 'ELAN', 'ALLY', 'TED']}, 'author': 'Martha J. DeWitt', 'autowrap': None, 'bbars': None, 'circles': None, 'clues': {'across': ['1. Fennel or sweet cicely', '5. Eat ___ (suffer humiliation)', '9. \"To ___ and to Hold,\" Johnston novel', '13. Cupid', '14. Lange from Conn.', '15. House sign', '16. What NOW wants women to be', '18. Ocean arm', '19. Follower of grain or freight', \"20. Orleans's river\", '21. ___ Cup (golf prize)', \"22. Boatman's backward\", '25. March 26, 1978', '28. Pavlov', '31. Relative of a daboia', '34. Defraud', '35. Pram pusher', '36. Put off', '38. Describing eternal youth', \"40. Pahlavi's country\", '41. Cerberus et al.', '43. Aye neutralizer', '44. Put to the ___', '45. Passageway', '46. Madagascar mammal', '48. Storehouse of a sort', '53. Inscribed pillar', '55. Newscaster', '58. Bulls, in Barcelona', '59. Repeats a report', '60. Proficient', '61. Abbr. often used on deeds', '62. Kind of wire', '63. Harassed', '64. Abjure', '65. Pung or monoski'], 'down': [\"1. Item in a Czech's wallet\", '2. Girl in \"Our Town\"', '3. Togate', '4. Longest modern musical note', '5. Converse idly', '6. Turning on an axis: Comb. form', '7. Work or run', '8. Join', '9. Paying homage to', '10. \"Mock on, mock on, \\'tis ___\": Blake', '11. Change course', '12. Feminine suffix', '15. Mah-jongg piece', '17. Make thin or porous', '23. Safe', '24. Drifts', '26. Vinegar made from a liquor', '27. Lure', '29. Soprano Moffo', '30. Former Hungarian prime minister', '31. Mine entrance', '32. Sapless', '33. Three sheets to the wind', '37. Player on the range', '39. Rate or evaluate', '42. Adhere or combine', '47. Aerie, e.g.', '49. Puppets', '50. Famous \"Chorus\"', '51. Irk', '52. Dropped a fly', '53. \"___ Wars\"', '54. Foofaraw', '56. Dash', '57. Confederate', '59. Kennedy or Heath']}, 'code': None, 'copyright': '1978, The New York Times', 'date': '2/2/1978', 'dow': 'Thursday', 'downmap': None, 'editor': 'Eugene T. Maleska', 'grid': ['H', 'E', 'R', 'B', '.', 'C', 'R', 'O', 'W', '.', '.', 'H', 'A', 'V', 'E', 'A', 'M', 'O', 'R', '.', 'H', 'O', 'P', 'E', '.', 'T', 'O', 'L', 'E', 'T', 'L', 'I', 'B', 'E', 'R', 'A', 'T', 'E', 'D', '.', 'I', 'N', 'L', 'E', 'T', 'E', 'L', 'E', 'V', 'A', 'T', 'O', 'R', '.', '.', 'L', 'O', 'I', 'R', 'E', 'R', 'Y', 'D', 'E', 'R', '.', '.', 'A', 'S', 'T', 'E', 'R', 'N', '.', '.', '.', '.', '.', '.', 'E', 'A', 'S', 'T', 'E', 'R', '.', 'I', 'V', 'A', 'N', 'A', 'S', 'P', '.', 'F', 'L', 'E', 'E', 'C', 'E', '.', 'N', 'A', 'N', 'A', 'D', 'E', 'L', 'A', 'Y', 'E', 'D', '.', 'U', 'N', 'A', 'G', 'I', 'N', 'G', 'I', 'R', 'A', 'N', '.', 'G', 'U', 'A', 'R', 'D', 'S', '.', 'N', 'A', 'Y', 'T', 'E', 'S', 'T', '.', 'A', 'C', 'C', 'E', 'S', 'S', '.', '.', '.', '.', '.', '.', 'T', 'E', 'N', 'R', 'E', 'C', '.', '.', 'E', 'T', 'A', 'P', 'E', 'S', 'T', 'E', 'L', 'E', '.', '.', 'R', 'E', 'A', 'S', 'O', 'N', 'E', 'R', 'T', 'O', 'R', 'O', 'S', '.', 'T', 'E', 'L', 'L', 'S', 'O', 'V', 'E', 'R', 'A', 'D', 'E', 'P', 'T', '.', 'E', 'T', 'A', 'L', '.', 'L', 'I', 'V', 'E', 'R', 'O', 'D', 'E', '.', '.', 'D', 'E', 'N', 'Y', '.', 'S', 'L', 'E', 'D'], 'gridnums': [1, 2, 3, 4, 0, 5, 6, 7, 8, 0, 0, 9, 10, 11, 12, 13, 0, 0, 0, 0, 14, 0, 0, 0, 0, 15, 0, 0, 0, 0, 16, 0, 0, 0, 17, 0, 0, 0, 0, 0, 18, 0, 0, 0, 0, 19, 0, 0, 0, 0, 0, 0, 0, 0, 0, 20, 0, 0, 0, 0, 21, 0, 0, 0, 0, 0, 0, 22, 23, 24, 0, 0, 0, 0, 0, 0, 0, 0, 0, 25, 26, 27, 0, 0, 0, 0, 28, 0, 29, 30, 31, 32, 33, 0, 34, 0, 0, 0, 0, 0, 0, 35, 0, 0, 0, 36, 0, 0, 37, 0, 0, 0, 0, 38, 0, 39, 0, 0, 0, 0, 40, 0, 0, 0, 0, 41, 0, 42, 0, 0, 0, 0, 43, 0, 0, 44, 0, 0, 0, 0, 45, 0, 0, 0, 0, 0, 0, 0, 0, 0, 0, 0, 46, 0, 47, 0, 0, 0, 0, 0, 48, 49, 50, 51, 52, 53, 54, 0, 0, 0, 0, 0, 55, 56, 57, 0, 0, 0, 0, 0, 58, 0, 0, 0, 0, 0, 59, 0, 0, 0, 0, 0, 0, 0, 0, 60, 0, 0, 0, 0, 0, 61, 0, 0, 0, 0, 62, 0, 0, 0, 63, 0, 0, 0, 0, 0, 64, 0, 0, 0, 0, 65, 0, 0, 0], 'hold': None, 'id': None, 'id2': None, 'interpretcolors': None, 'jnotes': None, 'key': None, 'mini': None, 'notepad': None, 'publisher': 'The New York Times', 'rbars': None, 'shadecircles': None, 'size': {'cols': 15, 'rows': 15}, 'title': 'NY TIMES, THU, FEB 02, 1978', 'track': None, 'type': None}\n"
     ]
    }
   ],
   "source": [
    "import json\n",
    "import os\n",
    "\n",
    "# Specify the path to your JSON file\n",
    "file_path = \"/Users/ishan/Desktop/cs224n/02.json\"\n",
    "\n",
    "# Check if the file exists and is not empty\n",
    "if os.path.exists(file_path) and os.path.getsize(file_path) > 0:\n",
    "    try:\n",
    "        # Open the JSON file and load its data\n",
    "        with open(file_path, 'r') as file:\n",
    "            data = json.load(file)\n",
    "        \n",
    "        # Now 'data' contains the JSON data as a Python dictionary\n",
    "        print(data)\n",
    "    except json.JSONDecodeError as e:\n",
    "        print(f\"Error decoding JSON: {e}\")\n",
    "    except Exception as e:\n",
    "        print(f\"An error occurred: {e}\")\n",
    "else:\n",
    "    print(\"File does not exist or is empty.\")"
   ]
  },
  {
   "cell_type": "code",
   "execution_count": 3,
   "id": "7fa9dfdf",
   "metadata": {},
   "outputs": [
    {
     "data": {
      "text/plain": [
       "'B'"
      ]
     },
     "execution_count": 3,
     "metadata": {},
     "output_type": "execute_result"
    }
   ],
   "source": [
    "data['grid'][3]"
   ]
  },
  {
   "cell_type": "code",
   "execution_count": 4,
   "id": "86baac91",
   "metadata": {},
   "outputs": [
    {
     "ename": "SyntaxError",
     "evalue": "expected ':' (2162014031.py, line 4)",
     "output_type": "error",
     "traceback": [
      "\u001b[0;36m  Cell \u001b[0;32mIn[4], line 4\u001b[0;36m\u001b[0m\n\u001b[0;31m    if i + 1\u001b[0m\n\u001b[0m             ^\u001b[0m\n\u001b[0;31mSyntaxError\u001b[0m\u001b[0;31m:\u001b[0m expected ':'\n"
     ]
    }
   ],
   "source": [
    "x = np.empty((15, 15), dtype='str')\n",
    "j = 0\n",
    "for i in range(len(data['grid'])):\n",
    "    if i + 1 "
   ]
  },
  {
   "cell_type": "code",
   "execution_count": 5,
   "id": "8f52ebcc",
   "metadata": {},
   "outputs": [
    {
     "data": {
      "text/plain": [
       "array([['H', 'E', 'R', 'B', '.', 'C', 'R', 'O', 'W', '.', '.', 'H', 'A',\n",
       "        'V', 'E'],\n",
       "       ['A', 'M', 'O', 'R', '.', 'H', 'O', 'P', 'E', '.', 'T', 'O', 'L',\n",
       "        'E', 'T'],\n",
       "       ['L', 'I', 'B', 'E', 'R', 'A', 'T', 'E', 'D', '.', 'I', 'N', 'L',\n",
       "        'E', 'T'],\n",
       "       ['E', 'L', 'E', 'V', 'A', 'T', 'O', 'R', '.', '.', 'L', 'O', 'I',\n",
       "        'R', 'E'],\n",
       "       ['R', 'Y', 'D', 'E', 'R', '.', '.', 'A', 'S', 'T', 'E', 'R', 'N',\n",
       "        '.', '.'],\n",
       "       ['.', '.', '.', '.', 'E', 'A', 'S', 'T', 'E', 'R', '.', 'I', 'V',\n",
       "        'A', 'N'],\n",
       "       ['A', 'S', 'P', '.', 'F', 'L', 'E', 'E', 'C', 'E', '.', 'N', 'A',\n",
       "        'N', 'A'],\n",
       "       ['D', 'E', 'L', 'A', 'Y', 'E', 'D', '.', 'U', 'N', 'A', 'G', 'I',\n",
       "        'N', 'G'],\n",
       "       ['I', 'R', 'A', 'N', '.', 'G', 'U', 'A', 'R', 'D', 'S', '.', 'N',\n",
       "        'A', 'Y'],\n",
       "       ['T', 'E', 'S', 'T', '.', 'A', 'C', 'C', 'E', 'S', 'S', '.', '.',\n",
       "        '.', '.'],\n",
       "       ['.', '.', 'T', 'E', 'N', 'R', 'E', 'C', '.', '.', 'E', 'T', 'A',\n",
       "        'P', 'E'],\n",
       "       ['S', 'T', 'E', 'L', 'E', '.', '.', 'R', 'E', 'A', 'S', 'O', 'N',\n",
       "        'E', 'R'],\n",
       "       ['T', 'O', 'R', 'O', 'S', '.', 'T', 'E', 'L', 'L', 'S', 'O', 'V',\n",
       "        'E', 'R'],\n",
       "       ['A', 'D', 'E', 'P', 'T', '.', 'E', 'T', 'A', 'L', '.', 'L', 'I',\n",
       "        'V', 'E'],\n",
       "       ['R', 'O', 'D', 'E', '.', '.', 'D', 'E', 'N', 'Y', '.', 'S', 'L',\n",
       "        'E', 'D']], dtype='<U1')"
      ]
     },
     "execution_count": 5,
     "metadata": {},
     "output_type": "execute_result"
    }
   ],
   "source": [
    "np.array(data['grid'], dtype='str').reshape((15, 15))"
   ]
  },
  {
   "cell_type": "code",
   "execution_count": 6,
   "id": "c97f70df",
   "metadata": {},
   "outputs": [
    {
     "data": {
      "text/plain": [
       "dict_keys(['acrossmap', 'admin', 'answers', 'author', 'autowrap', 'bbars', 'circles', 'clues', 'code', 'copyright', 'date', 'dow', 'downmap', 'editor', 'grid', 'gridnums', 'hold', 'id', 'id2', 'interpretcolors', 'jnotes', 'key', 'mini', 'notepad', 'publisher', 'rbars', 'shadecircles', 'size', 'title', 'track', 'type'])"
      ]
     },
     "execution_count": 6,
     "metadata": {},
     "output_type": "execute_result"
    }
   ],
   "source": [
    "data.keys()"
   ]
  },
  {
   "cell_type": "code",
   "execution_count": 7,
   "id": "6fed9419",
   "metadata": {},
   "outputs": [
    {
     "data": {
      "text/plain": [
       "array([['1', '2', '3', '4', '0', '5', '6', '7', '8', '0', '0', '9', '10',\n",
       "        '11', '12'],\n",
       "       ['13', '0', '0', '0', '0', '14', '0', '0', '0', '0', '15', '0',\n",
       "        '0', '0', '0'],\n",
       "       ['16', '0', '0', '0', '17', '0', '0', '0', '0', '0', '18', '0',\n",
       "        '0', '0', '0'],\n",
       "       ['19', '0', '0', '0', '0', '0', '0', '0', '0', '0', '20', '0',\n",
       "        '0', '0', '0'],\n",
       "       ['21', '0', '0', '0', '0', '0', '0', '22', '23', '24', '0', '0',\n",
       "        '0', '0', '0'],\n",
       "       ['0', '0', '0', '0', '25', '26', '27', '0', '0', '0', '0', '28',\n",
       "        '0', '29', '30'],\n",
       "       ['31', '32', '33', '0', '34', '0', '0', '0', '0', '0', '0', '35',\n",
       "        '0', '0', '0'],\n",
       "       ['36', '0', '0', '37', '0', '0', '0', '0', '38', '0', '39', '0',\n",
       "        '0', '0', '0'],\n",
       "       ['40', '0', '0', '0', '0', '41', '0', '42', '0', '0', '0', '0',\n",
       "        '43', '0', '0'],\n",
       "       ['44', '0', '0', '0', '0', '45', '0', '0', '0', '0', '0', '0',\n",
       "        '0', '0', '0'],\n",
       "       ['0', '0', '46', '0', '47', '0', '0', '0', '0', '0', '48', '49',\n",
       "        '50', '51', '52'],\n",
       "       ['53', '54', '0', '0', '0', '0', '0', '55', '56', '57', '0', '0',\n",
       "        '0', '0', '0'],\n",
       "       ['58', '0', '0', '0', '0', '0', '59', '0', '0', '0', '0', '0',\n",
       "        '0', '0', '0'],\n",
       "       ['60', '0', '0', '0', '0', '0', '61', '0', '0', '0', '0', '62',\n",
       "        '0', '0', '0'],\n",
       "       ['63', '0', '0', '0', '0', '0', '64', '0', '0', '0', '0', '65',\n",
       "        '0', '0', '0']], dtype='<U2')"
      ]
     },
     "execution_count": 7,
     "metadata": {},
     "output_type": "execute_result"
    }
   ],
   "source": [
    "np.array(data['gridnums'], dtype='str').reshape((15, 15))"
   ]
  },
  {
   "cell_type": "code",
   "execution_count": 52,
   "id": "7e464810-bfa0-4289-86e8-00422b9b2778",
   "metadata": {},
   "outputs": [
    {
     "ename": "TypeError",
     "evalue": "the JSON object must be str, bytes or bytearray, not dict",
     "output_type": "error",
     "traceback": [
      "\u001b[0;31m---------------------------------------------------------------------------\u001b[0m",
      "\u001b[0;31mTypeError\u001b[0m                                 Traceback (most recent call last)",
      "Cell \u001b[0;32mIn[52], line 1\u001b[0m\n\u001b[0;32m----> 1\u001b[0m clue \u001b[38;5;241m=\u001b[39m \u001b[43mjson\u001b[49m\u001b[38;5;241;43m.\u001b[39;49m\u001b[43mloads\u001b[49m\u001b[43m(\u001b[49m\u001b[43mdata\u001b[49m\u001b[43m)\u001b[49m\n",
      "File \u001b[0;32m~/miniconda3/envs/cs224n/lib/python3.12/json/__init__.py:339\u001b[0m, in \u001b[0;36mloads\u001b[0;34m(s, cls, object_hook, parse_float, parse_int, parse_constant, object_pairs_hook, **kw)\u001b[0m\n\u001b[1;32m    337\u001b[0m \u001b[38;5;28;01melse\u001b[39;00m:\n\u001b[1;32m    338\u001b[0m     \u001b[38;5;28;01mif\u001b[39;00m \u001b[38;5;129;01mnot\u001b[39;00m \u001b[38;5;28misinstance\u001b[39m(s, (\u001b[38;5;28mbytes\u001b[39m, \u001b[38;5;28mbytearray\u001b[39m)):\n\u001b[0;32m--> 339\u001b[0m         \u001b[38;5;28;01mraise\u001b[39;00m \u001b[38;5;167;01mTypeError\u001b[39;00m(\u001b[38;5;124mf\u001b[39m\u001b[38;5;124m'\u001b[39m\u001b[38;5;124mthe JSON object must be str, bytes or bytearray, \u001b[39m\u001b[38;5;124m'\u001b[39m\n\u001b[1;32m    340\u001b[0m                         \u001b[38;5;124mf\u001b[39m\u001b[38;5;124m'\u001b[39m\u001b[38;5;124mnot \u001b[39m\u001b[38;5;132;01m{\u001b[39;00ms\u001b[38;5;241m.\u001b[39m\u001b[38;5;18m__class__\u001b[39m\u001b[38;5;241m.\u001b[39m\u001b[38;5;18m__name__\u001b[39m\u001b[38;5;132;01m}\u001b[39;00m\u001b[38;5;124m'\u001b[39m)\n\u001b[1;32m    341\u001b[0m     s \u001b[38;5;241m=\u001b[39m s\u001b[38;5;241m.\u001b[39mdecode(detect_encoding(s), \u001b[38;5;124m'\u001b[39m\u001b[38;5;124msurrogatepass\u001b[39m\u001b[38;5;124m'\u001b[39m)\n\u001b[1;32m    343\u001b[0m \u001b[38;5;28;01mif\u001b[39;00m (\u001b[38;5;28mcls\u001b[39m \u001b[38;5;129;01mis\u001b[39;00m \u001b[38;5;28;01mNone\u001b[39;00m \u001b[38;5;129;01mand\u001b[39;00m object_hook \u001b[38;5;129;01mis\u001b[39;00m \u001b[38;5;28;01mNone\u001b[39;00m \u001b[38;5;129;01mand\u001b[39;00m\n\u001b[1;32m    344\u001b[0m         parse_int \u001b[38;5;129;01mis\u001b[39;00m \u001b[38;5;28;01mNone\u001b[39;00m \u001b[38;5;129;01mand\u001b[39;00m parse_float \u001b[38;5;129;01mis\u001b[39;00m \u001b[38;5;28;01mNone\u001b[39;00m \u001b[38;5;129;01mand\u001b[39;00m\n\u001b[1;32m    345\u001b[0m         parse_constant \u001b[38;5;129;01mis\u001b[39;00m \u001b[38;5;28;01mNone\u001b[39;00m \u001b[38;5;129;01mand\u001b[39;00m object_pairs_hook \u001b[38;5;129;01mis\u001b[39;00m \u001b[38;5;28;01mNone\u001b[39;00m \u001b[38;5;129;01mand\u001b[39;00m \u001b[38;5;129;01mnot\u001b[39;00m kw):\n",
      "\u001b[0;31mTypeError\u001b[0m: the JSON object must be str, bytes or bytearray, not dict"
     ]
    }
   ],
   "source": [
    "clue = json.loads(data)"
   ]
  },
  {
   "cell_type": "code",
   "execution_count": 8,
   "id": "92e2ee8c",
   "metadata": {},
   "outputs": [],
   "source": [
    "def clean(text):\n",
    "    '''\n",
    "    :param text: question or answer text\n",
    "    :return: text with line breaks and trailing spaces removed\n",
    "    '''\n",
    "    return \" \".join(text.strip().split())\n",
    "\n",
    "\n",
    "class Crossword:\n",
    "    \"\"\"\n",
    "    This class defines a crossword datastructure which stores a puzzle solution and contains maps between words,\n",
    "    crossing words, and the grid cells they contain. During initialization, this class takes a JSON representation\n",
    "    of the crossword that matches our data scraper's specification.\n",
    "\n",
    "    Args:\n",
    "        data (dict): JSON representation of crossword data\n",
    "\n",
    "    Attributes:\n",
    "        self.letter_grid (list): 2D array representing gold crossword solution\n",
    "        self.number_grid (list): 2D array with numbers representing beginnings of clues\n",
    "        self.variables (dict): mapping from clues to gold answers, cells, and intersecting clues\n",
    "    \"\"\"\n",
    "    def __init__(self, data):\n",
    "        self.initialize_grids(grid=data[\"grid\"])\n",
    "        self.initialize_clues(clues=data[\"clues\"])\n",
    "        self.initialize_variables()\n",
    "\n",
    "    def initialize_grids(self, grid):\n",
    "        self.letter_grid = [[grid[j][i][1] if type(grid[j][i]) == list else \"\" for i in\n",
    "                             range(len(grid[0]))] for j in range(len(grid))]\n",
    "        self.number_grid = [[grid[j][i][0] if type(grid[j][i]) == list else \"\" for i in\n",
    "                             range(len(grid[0]))] for j in range(len(grid))]\n",
    "        self.grid_cells = {}\n",
    "\n",
    "    def initialize_clues(self, clues):\n",
    "        self.across = clues[\"across\"]\n",
    "        self.down = clues[\"down\"]\n",
    "\n",
    "    def initialize_variable(self, position, clues, across=True):\n",
    "        row, col = position\n",
    "        cell_number = self.number_grid[row][col]\n",
    "        assert cell_number in clues, print(\"Missing clue\")\n",
    "        word_id = cell_number + \"A\" if across else cell_number + \"D\"\n",
    "        clue = clean(clues[cell_number][0])\n",
    "        answer = clean(clues[cell_number][1])\n",
    "        for idx in range(len(answer)):\n",
    "            cell = (row, col + idx) if across else (row + idx, col)\n",
    "            if cell in self.grid_cells:\n",
    "                self.grid_cells[cell].append(word_id)\n",
    "            else:\n",
    "                self.grid_cells[cell] = [word_id]\n",
    "            if word_id in self.variables:\n",
    "                self.variables[word_id][\"cells\"].append(cell)\n",
    "            else:\n",
    "                self.variables[word_id] = {\"clue\": clue, \"gold\": answer, \"cells\": [cell], \"crossing\": []}\n",
    "\n",
    "    def initialize_crossing(self):\n",
    "        for word_id in self.variables:\n",
    "            cells = self.variables[word_id][\"cells\"]\n",
    "            crossing_ids = []\n",
    "            for cell in cells:\n",
    "                crossing_ids += list(filter(lambda x: x!= word_id, self.grid_cells[cell]))\n",
    "            self.variables[word_id][\"crossing\"] = crossing_ids\n",
    "\n",
    "    def initialize_variables(self):\n",
    "        self.variables = {}\n",
    "        for row in range(len(self.number_grid)):\n",
    "            for col in range(len(self.number_grid[0])):\n",
    "                cell_number = self.number_grid[row][col]\n",
    "                if self.number_grid[row][col] != \"\":\n",
    "                    if cell_number in self.across:\n",
    "                        self.initialize_variable((row, col), self.across, across=True)\n",
    "                    if cell_number in self.down:\n",
    "                        self.initialize_variable((row, col), self.down, across=False)\n",
    "        self.initialize_crossing()"
   ]
  },
  {
   "cell_type": "code",
   "execution_count": 9,
   "id": "c89d2923",
   "metadata": {},
   "outputs": [],
   "source": [
    "trial = Crossword(data)"
   ]
  },
  {
   "cell_type": "code",
   "execution_count": 55,
   "id": "9b23be33-a2bb-4142-98c7-c0c0b2f60c0c",
   "metadata": {},
   "outputs": [
    {
     "data": {
      "text/plain": [
       "{}"
      ]
     },
     "execution_count": 55,
     "metadata": {},
     "output_type": "execute_result"
    }
   ],
   "source": [
    "trial.variables"
   ]
  },
  {
   "cell_type": "code",
   "execution_count": 10,
   "id": "79133014",
   "metadata": {},
   "outputs": [],
   "source": [
    "trial.initialize_grids(data['grid'])"
   ]
  },
  {
   "cell_type": "code",
   "execution_count": 16,
   "id": "84cbbb31",
   "metadata": {},
   "outputs": [],
   "source": [
    "data['acrossmap']"
   ]
  },
  {
   "cell_type": "code",
   "execution_count": 33,
   "id": "9792a706-9c02-45bd-b5d9-4b4c879f75fb",
   "metadata": {},
   "outputs": [
    {
     "data": {
      "text/plain": [
       "['HERB',\n",
       " 'CROW',\n",
       " 'HAVE',\n",
       " 'AMOR',\n",
       " 'HOPE',\n",
       " 'TOLET',\n",
       " 'LIBERATED',\n",
       " 'INLET',\n",
       " 'ELEVATOR',\n",
       " 'LOIRE',\n",
       " 'RYDER',\n",
       " 'ASTERN',\n",
       " 'EASTER',\n",
       " 'IVAN',\n",
       " 'ASP',\n",
       " 'FLEECE',\n",
       " 'NANA',\n",
       " 'DELAYED',\n",
       " 'UNAGING',\n",
       " 'IRAN',\n",
       " 'GUARDS',\n",
       " 'NAY',\n",
       " 'TEST',\n",
       " 'ACCESS',\n",
       " 'TENREC',\n",
       " 'ETAPE',\n",
       " 'STELE',\n",
       " 'REASONER',\n",
       " 'TOROS',\n",
       " 'TELLSOVER',\n",
       " 'ADEPT',\n",
       " 'ETAL',\n",
       " 'LIVE',\n",
       " 'RODE',\n",
       " 'DENY',\n",
       " 'SLED']"
      ]
     },
     "execution_count": 33,
     "metadata": {},
     "output_type": "execute_result"
    }
   ],
   "source": [
    "data['answers']['across']"
   ]
  },
  {
   "cell_type": "code",
   "execution_count": 20,
   "id": "2f483933-2902-4c71-8f2c-fb1064a97c71",
   "metadata": {},
   "outputs": [
    {
     "data": {
      "text/plain": [
       "[\"1. Item in a Czech's wallet\",\n",
       " '2. Girl in \"Our Town\"',\n",
       " '3. Togate',\n",
       " '4. Longest modern musical note',\n",
       " '5. Converse idly',\n",
       " '6. Turning on an axis: Comb. form',\n",
       " '7. Work or run',\n",
       " '8. Join',\n",
       " '9. Paying homage to',\n",
       " '10. \"Mock on, mock on, \\'tis ___\": Blake',\n",
       " '11. Change course',\n",
       " '12. Feminine suffix',\n",
       " '15. Mah-jongg piece',\n",
       " '17. Make thin or porous',\n",
       " '23. Safe',\n",
       " '24. Drifts',\n",
       " '26. Vinegar made from a liquor',\n",
       " '27. Lure',\n",
       " '29. Soprano Moffo',\n",
       " '30. Former Hungarian prime minister',\n",
       " '31. Mine entrance',\n",
       " '32. Sapless',\n",
       " '33. Three sheets to the wind',\n",
       " '37. Player on the range',\n",
       " '39. Rate or evaluate',\n",
       " '42. Adhere or combine',\n",
       " '47. Aerie, e.g.',\n",
       " '49. Puppets',\n",
       " '50. Famous \"Chorus\"',\n",
       " '51. Irk',\n",
       " '52. Dropped a fly',\n",
       " '53. \"___ Wars\"',\n",
       " '54. Foofaraw',\n",
       " '56. Dash',\n",
       " '57. Confederate',\n",
       " '59. Kennedy or Heath']"
      ]
     },
     "execution_count": 20,
     "metadata": {},
     "output_type": "execute_result"
    }
   ],
   "source": [
    "trial.down"
   ]
  },
  {
   "cell_type": "code",
   "execution_count": 12,
   "id": "c9539a41",
   "metadata": {},
   "outputs": [
    {
     "data": {
      "image/png": "[encoded data removed]",
      "text/plain": [
       "<Figure size 1200x500 with 1 Axes>"
      ]
     },
     "metadata": {},
     "output_type": "display_data"
    }
   ],
   "source": [
    "import numpy as np\n",
    "import matplotlib.pyplot as plt\n",
    "\n",
    "# Given 15x15 array\n",
    "crossword = np.array(data['gridnums'], dtype='str').reshape((15, 15))\n",
    "\n",
    "# Create a figure and axis\n",
    "fig, ax = plt.subplots(figsize=(12, 5))\n",
    "\n",
    "# Hide the axes\n",
    "ax.axis('off')\n",
    "\n",
    "# Add a table to the plot\n",
    "table = plt.table(cellText=crossword, cellLoc='center', loc='center', edges='closed')\n",
    "\n",
    "# Set font properties for the table\n",
    "table.auto_set_font_size(False)\n",
    "table.set_fontsize(10)\n",
    "table.scale(1, 1)\n",
    "\n",
    "# Highlight the black cells\n",
    "for i in range(15):\n",
    "    for j in range(15):\n",
    "        if crossword[i, j] == '0':\n",
    "            table[(i, j)].set_facecolor('black')\n",
    "        else:\n",
    "            table[(i, j)].set_facecolor('white')\n",
    "\n",
    "# Adjust the size of the cells to make them square\n",
    "table.auto_set_column_width(col=list(range(15))) # Make each column width the same\n",
    "table.scale(1, 1.5) # Adjust the scale to ensure square cells\n",
    "\n",
    "plt.show()\n"
   ]
  },
  {
   "cell_type": "code",
   "execution_count": 14,
   "id": "a1b9268f",
   "metadata": {},
   "outputs": [
    {
     "name": "stdout",
     "output_type": "stream",
     "text": [
      "Collecting seaborn\n",
      "  Downloading seaborn-0.13.2-py3-none-any.whl.metadata (5.4 kB)\n",
      "Requirement already satisfied: numpy!=1.24.0,>=1.20 in /Users/ishan/miniconda3/envs/cs224n/lib/python3.12/site-packages (from seaborn) (1.26.4)\n",
      "Requirement already satisfied: pandas>=1.2 in /Users/ishan/miniconda3/envs/cs224n/lib/python3.12/site-packages (from seaborn) (2.2.2)\n",
      "Requirement already satisfied: matplotlib!=3.6.1,>=3.4 in /Users/ishan/miniconda3/envs/cs224n/lib/python3.12/site-packages (from seaborn) (3.8.4)\n",
      "Requirement already satisfied: contourpy>=1.0.1 in /Users/ishan/miniconda3/envs/cs224n/lib/python3.12/site-packages (from matplotlib!=3.6.1,>=3.4->seaborn) (1.2.1)\n",
      "Requirement already satisfied: cycler>=0.10 in /Users/ishan/miniconda3/envs/cs224n/lib/python3.12/site-packages (from matplotlib!=3.6.1,>=3.4->seaborn) (0.12.1)\n",
      "Requirement already satisfied: fonttools>=4.22.0 in /Users/ishan/miniconda3/envs/cs224n/lib/python3.12/site-packages (from matplotlib!=3.6.1,>=3.4->seaborn) (4.51.0)\n",
      "Requirement already satisfied: kiwisolver>=1.3.1 in /Users/ishan/miniconda3/envs/cs224n/lib/python3.12/site-packages (from matplotlib!=3.6.1,>=3.4->seaborn) (1.4.5)\n",
      "Requirement already satisfied: packaging>=20.0 in /Users/ishan/miniconda3/envs/cs224n/lib/python3.12/site-packages (from matplotlib!=3.6.1,>=3.4->seaborn) (24.0)\n",
      "Requirement already satisfied: pillow>=8 in /Users/ishan/miniconda3/envs/cs224n/lib/python3.12/site-packages (from matplotlib!=3.6.1,>=3.4->seaborn) (10.3.0)\n",
      "Requirement already satisfied: pyparsing>=2.3.1 in /Users/ishan/miniconda3/envs/cs224n/lib/python3.12/site-packages (from matplotlib!=3.6.1,>=3.4->seaborn) (3.1.2)\n",
      "Requirement already satisfied: python-dateutil>=2.7 in /Users/ishan/miniconda3/envs/cs224n/lib/python3.12/site-packages (from matplotlib!=3.6.1,>=3.4->seaborn) (2.9.0)\n",
      "Requirement already satisfied: pytz>=2020.1 in /Users/ishan/miniconda3/envs/cs224n/lib/python3.12/site-packages (from pandas>=1.2->seaborn) (2024.1)\n",
      "Requirement already satisfied: tzdata>=2022.7 in /Users/ishan/miniconda3/envs/cs224n/lib/python3.12/site-packages (from pandas>=1.2->seaborn) (2024.1)\n",
      "Requirement already satisfied: six>=1.5 in /Users/ishan/miniconda3/envs/cs224n/lib/python3.12/site-packages (from python-dateutil>=2.7->matplotlib!=3.6.1,>=3.4->seaborn) (1.16.0)\n",
      "Downloading seaborn-0.13.2-py3-none-any.whl (294 kB)\n",
      "\u001b[2K   \u001b[90m━━━━━━━━━━━━━━━━━━━━━━━━━━━━━━━━━━━━━━━━\u001b[0m \u001b[32m294.9/294.9 kB\u001b[0m \u001b[31m1.2 MB/s\u001b[0m eta \u001b[36m0:00:00\u001b[0ma \u001b[36m0:00:01\u001b[0m\n",
      "\u001b[?25hInstalling collected packages: seaborn\n",
      "Successfully installed seaborn-0.13.2\n",
      "Note: you may need to restart the kernel to use updated packages.\n"
     ]
    }
   ],
   "source": [
    "pip install seaborn"
   ]
  },
  {
   "cell_type": "code",
   "execution_count": 15,
   "id": "b128dbc1",
   "metadata": {},
   "outputs": [
    {
     "data": {
      "image/png": "[encoded data removed]",
      "text/plain": [
       "<Figure size 1000x1000 with 1 Axes>"
      ]
     },
     "metadata": {},
     "output_type": "display_data"
    }
   ],
   "source": [
    "import numpy as np\n",
    "import matplotlib.pyplot as plt\n",
    "import seaborn as sns\n",
    "\n",
    "# Given 15x15 array\n",
    "crossword = np.array(data['grid'], dtype='str').reshape((15, 15))\n",
    "\n",
    "# Function to plot the crossword puzzle\n",
    "def plot_crossword(grid):\n",
    "    fig, ax = plt.subplots(figsize=(10, 10))\n",
    "    \n",
    "    # Create a heatmap with white color and no grid lines\n",
    "    sns.heatmap(grid != '.', cbar=False, square=True, linewidths=.5, linecolor='black', cmap=['black', 'white'], ax=ax)\n",
    "    \n",
    "    # Annotate the cells with the numbers\n",
    "    for i in range(grid.shape[0]):\n",
    "        for j in range(grid.shape[1]):\n",
    "            if grid[i, j] != '0':\n",
    "                ax.text(j + 0.5, i + 0.5, grid[i, j], \n",
    "                        horizontalalignment='center', \n",
    "                        verticalalignment='center',\n",
    "                        fontsize=8,\n",
    "                        color='black')\n",
    "    \n",
    "    # Remove axis labels and ticks\n",
    "    ax.set_xticks([])\n",
    "    ax.set_yticks([])\n",
    "    \n",
    "    plt.show()\n",
    "\n",
    "# Plot the crossword puzzle\n",
    "plot_crossword(crossword)\n"
   ]
  },
  {
   "cell_type": "code",
   "execution_count": null,
   "id": "86a9deca",
   "metadata": {},
   "outputs": [],
   "source": [
    "# rough plan for attempting to solve a grid\n",
    "\n",
    "# come up with initial guesses for all clues\n",
    "\n",
    "# compute cosine similarity between clues and guess, rank pairs by order of highest similarity\n",
    "\n",
    "# for words with no overlap, fill in best non-cosines\n",
    "\n",
    "# recompute guesses with filled in characters, rank pairs by order of highest similarity\n",
    "\n"
   ]
  },
  {
   "cell_type": "code",
   "execution_count": 31,
   "id": "ee913c7c-1cdf-4248-8299-ff97ccfd9b78",
   "metadata": {},
   "outputs": [
    {
     "name": "stdout",
     "output_type": "stream",
     "text": [
      "[\" Item in a Czech's wallet\", ' Girl in \"Our Town\"', ' Togate', ' Longest modern musical note', ' Converse idly', ' Turning on an axis: Comb', ' Work or run', ' Join', ' Paying homage to', ' \"Mock on, mock on, \\'tis ___\": Blake', ' Change course', ' Feminine suffix', ' Mah-jongg piece', ' Make thin or porous', ' Safe', ' Drifts', ' Vinegar made from a liquor', ' Lure', ' Soprano Moffo', ' Former Hungarian prime minister', ' Mine entrance', ' Sapless', ' Three sheets to the wind', ' Player on the range', ' Rate or evaluate', ' Adhere or combine', ' Aerie, e', ' Puppets', ' Famous \"Chorus\"', ' Irk', ' Dropped a fly', ' \"___ Wars\"', ' Foofaraw', ' Dash', ' Confederate', ' Kennedy or Heath']\n",
      "[' Fennel or sweet cicely', ' Eat ___ (suffer humiliation)', ' \"To ___ and to Hold,\" Johnston novel', ' Cupid', ' Lange from Conn', ' House sign', ' What NOW wants women to be', ' Ocean arm', ' Follower of grain or freight', \" Orleans's river\", ' ___ Cup (golf prize)', \" Boatman's backward\", ' March 26, 1978', ' Pavlov', ' Relative of a daboia', ' Defraud', ' Pram pusher', ' Put off', ' Describing eternal youth', \" Pahlavi's country\", ' Cerberus et al', ' Aye neutralizer', ' Put to the ___', ' Passageway', ' Madagascar mammal', ' Storehouse of a sort', ' Inscribed pillar', ' Newscaster', ' Bulls, in Barcelona', ' Repeats a report', ' Proficient', ' Abbr', ' Kind of wire', ' Harassed', ' Abjure', ' Pung or monoski']\n"
     ]
    }
   ],
   "source": [
    "# Make across and down lists\n",
    "down_list = list(trial.down)\n",
    "across_list = list(trial.across)\n",
    "\n",
    "# Loop through across_list\n",
    "updated_down_list = []\n",
    "for down_word in down_list:\n",
    "    parts = down_word.split('.')\n",
    "    updated_down_list.append(parts[1])\n",
    "print(updated_down_list)\n",
    "\n",
    "\n",
    "\n",
    "\n",
    "\n",
    "updated_across_list = []\n",
    "for across_word in across_list:\n",
    "    parts = across_word.split('.')\n",
    "    updated_across_list.append(parts[1])\n",
    "print(updated_across_list)"
   ]
  },
  {
   "cell_type": "code",
   "execution_count": 37,
   "id": "0d4f3a49-6164-4b59-9942-18f7aeddb5d8",
   "metadata": {},
   "outputs": [
    {
     "name": "stdout",
     "output_type": "stream",
     "text": [
      "{' Fennel or sweet cicely': 'HERB', ' Eat ___ (suffer humiliation)': 'CROW', ' \"To ___ and to Hold,\" Johnston novel': 'HAVE', ' Cupid': 'AMOR', ' Lange from Conn': 'HOPE', ' House sign': 'TOLET', ' What NOW wants women to be': 'LIBERATED', ' Ocean arm': 'INLET', ' Follower of grain or freight': 'ELEVATOR', \" Orleans's river\": 'LOIRE', ' ___ Cup (golf prize)': 'RYDER', \" Boatman's backward\": 'ASTERN', ' March 26, 1978': 'EASTER', ' Pavlov': 'IVAN', ' Relative of a daboia': 'ASP', ' Defraud': 'FLEECE', ' Pram pusher': 'NANA', ' Put off': 'DELAYED', ' Describing eternal youth': 'UNAGING', \" Pahlavi's country\": 'IRAN', ' Cerberus et al': 'GUARDS', ' Aye neutralizer': 'NAY', ' Put to the ___': 'TEST', ' Passageway': 'ACCESS', ' Madagascar mammal': 'TENREC', ' Storehouse of a sort': 'ETAPE', ' Inscribed pillar': 'STELE', ' Newscaster': 'REASONER', ' Bulls, in Barcelona': 'TOROS', ' Repeats a report': 'TELLSOVER', ' Proficient': 'ADEPT', ' Abbr': 'ETAL', ' Kind of wire': 'LIVE', ' Harassed': 'RODE', ' Abjure': 'DENY', ' Pung or monoski': 'SLED'}\n"
     ]
    }
   ],
   "source": [
    "words_answers_dict = {}\n",
    "for i in range(len(updated_across_list)):\n",
    "    clue = updated_across_list[i]\n",
    "    words_answers_dict[clue] = data['answers']['across'][i]\n",
    "print(words_answers_dict)\n",
    "\n"
   ]
  },
  {
   "cell_type": "code",
   "execution_count": 50,
   "id": "aaddde50-e546-4e42-a566-7c9e8bee01fe",
   "metadata": {},
   "outputs": [],
   "source": [
    "# Get the input by asking GPT or Llama or something\n",
    "\n",
    "input = ' Fennel or sweet cicely'\n",
    "words = [\"HERB\", \"SPICE\", \"PLANT\", \"VEGETABLE\", \"ANISE\", \"ANISEED\"]\n",
    "\n",
    "#print(words_answers_dict).keys()\n",
    "correct_len = len(words_answers_dict[input])\n",
    "# print(correct_len)\n",
    "\n",
    "\n",
    "def filter(words, correct_length):\n",
    "    new_words = []\n",
    "    for word in words:\n",
    "        if len(word) == correct_length:\n",
    "            new_words.append(word)\n",
    "\n",
    "    return new_words\n",
    "\n",
    "\n",
    "\n"
   ]
  },
  {
   "cell_type": "code",
   "execution_count": 51,
   "id": "200097d9-1c34-4310-838c-185b5997a834",
   "metadata": {},
   "outputs": [
    {
     "data": {
      "text/plain": [
       "['HERB']"
      ]
     },
     "execution_count": 51,
     "metadata": {},
     "output_type": "execute_result"
    }
   ],
   "source": [
    "candidate_list = filter(words, 4)"
   ]
  },
  {
   "cell_type": "code",
   "execution_count": null,
   "id": "1260d2fd-e5ab-4605-8c7f-bfa2e1ef626a",
   "metadata": {},
   "outputs": [],
   "source": [
    "def get_coordinates(clue):\n",
    "    \n",
    "    \n",
    "    "
   ]
  },
  {
   "cell_type": "code",
   "execution_count": null,
   "id": "f6110e08-8b0f-4f0b-ba1d-e8400e8622db",
   "metadata": {},
   "outputs": [],
   "source": [
    "def get_constraints(word, coordinates): \n",
    "    '''\n",
    "    Params:\n",
    "    word -> string\n",
    "    coordinates -> tuple of form (x_coord, y_coord) of word\n",
    "    "
   ]
  },
  {
   "cell_type": "code",
   "execution_count": 53,
   "id": "eb887dfd-be5f-45d5-a6df-e0590dd21ce7",
   "metadata": {},
   "outputs": [
    {
     "name": "stdout",
     "output_type": "stream",
     "text": [
      "{'acrossmap': None, 'admin': False, 'answers': {'across': ['HERB', 'CROW', 'HAVE', 'AMOR', 'HOPE', 'TOLET', 'LIBERATED', 'INLET', 'ELEVATOR', 'LOIRE', 'RYDER', 'ASTERN', 'EASTER', 'IVAN', 'ASP', 'FLEECE', 'NANA', 'DELAYED', 'UNAGING', 'IRAN', 'GUARDS', 'NAY', 'TEST', 'ACCESS', 'TENREC', 'ETAPE', 'STELE', 'REASONER', 'TOROS', 'TELLSOVER', 'ADEPT', 'ETAL', 'LIVE', 'RODE', 'DENY', 'SLED'], 'down': ['HALER', 'EMILY', 'ROBED', 'BREVE', 'CHAT', 'ROTO', 'OPERATE', 'WED', 'HONORING', 'ALLINVAIN', 'VEER', 'ETTE', 'TILE', 'RAREFY', 'SECURE', 'TRENDS', 'ALEGAR', 'SEDUCE', 'ANNA', 'NAGY', 'ADIT', 'SERE', 'PLASTERED', 'ANTELOPE', 'ASSESS', 'ACCRETE', 'NEST', 'TOOLS', 'ANVIL', 'PEEVE', 'ERRED', 'STAR', 'TODO', 'ELAN', 'ALLY', 'TED']}, 'author': 'Martha J. DeWitt', 'autowrap': None, 'bbars': None, 'circles': None, 'clues': {'across': ['1. Fennel or sweet cicely', '5. Eat ___ (suffer humiliation)', '9. \"To ___ and to Hold,\" Johnston novel', '13. Cupid', '14. Lange from Conn.', '15. House sign', '16. What NOW wants women to be', '18. Ocean arm', '19. Follower of grain or freight', \"20. Orleans's river\", '21. ___ Cup (golf prize)', \"22. Boatman's backward\", '25. March 26, 1978', '28. Pavlov', '31. Relative of a daboia', '34. Defraud', '35. Pram pusher', '36. Put off', '38. Describing eternal youth', \"40. Pahlavi's country\", '41. Cerberus et al.', '43. Aye neutralizer', '44. Put to the ___', '45. Passageway', '46. Madagascar mammal', '48. Storehouse of a sort', '53. Inscribed pillar', '55. Newscaster', '58. Bulls, in Barcelona', '59. Repeats a report', '60. Proficient', '61. Abbr. often used on deeds', '62. Kind of wire', '63. Harassed', '64. Abjure', '65. Pung or monoski'], 'down': [\"1. Item in a Czech's wallet\", '2. Girl in \"Our Town\"', '3. Togate', '4. Longest modern musical note', '5. Converse idly', '6. Turning on an axis: Comb. form', '7. Work or run', '8. Join', '9. Paying homage to', '10. \"Mock on, mock on, \\'tis ___\": Blake', '11. Change course', '12. Feminine suffix', '15. Mah-jongg piece', '17. Make thin or porous', '23. Safe', '24. Drifts', '26. Vinegar made from a liquor', '27. Lure', '29. Soprano Moffo', '30. Former Hungarian prime minister', '31. Mine entrance', '32. Sapless', '33. Three sheets to the wind', '37. Player on the range', '39. Rate or evaluate', '42. Adhere or combine', '47. Aerie, e.g.', '49. Puppets', '50. Famous \"Chorus\"', '51. Irk', '52. Dropped a fly', '53. \"___ Wars\"', '54. Foofaraw', '56. Dash', '57. Confederate', '59. Kennedy or Heath']}, 'code': None, 'copyright': '1978, The New York Times', 'date': '2/2/1978', 'dow': 'Thursday', 'downmap': None, 'editor': 'Eugene T. Maleska', 'grid': ['H', 'E', 'R', 'B', '.', 'C', 'R', 'O', 'W', '.', '.', 'H', 'A', 'V', 'E', 'A', 'M', 'O', 'R', '.', 'H', 'O', 'P', 'E', '.', 'T', 'O', 'L', 'E', 'T', 'L', 'I', 'B', 'E', 'R', 'A', 'T', 'E', 'D', '.', 'I', 'N', 'L', 'E', 'T', 'E', 'L', 'E', 'V', 'A', 'T', 'O', 'R', '.', '.', 'L', 'O', 'I', 'R', 'E', 'R', 'Y', 'D', 'E', 'R', '.', '.', 'A', 'S', 'T', 'E', 'R', 'N', '.', '.', '.', '.', '.', '.', 'E', 'A', 'S', 'T', 'E', 'R', '.', 'I', 'V', 'A', 'N', 'A', 'S', 'P', '.', 'F', 'L', 'E', 'E', 'C', 'E', '.', 'N', 'A', 'N', 'A', 'D', 'E', 'L', 'A', 'Y', 'E', 'D', '.', 'U', 'N', 'A', 'G', 'I', 'N', 'G', 'I', 'R', 'A', 'N', '.', 'G', 'U', 'A', 'R', 'D', 'S', '.', 'N', 'A', 'Y', 'T', 'E', 'S', 'T', '.', 'A', 'C', 'C', 'E', 'S', 'S', '.', '.', '.', '.', '.', '.', 'T', 'E', 'N', 'R', 'E', 'C', '.', '.', 'E', 'T', 'A', 'P', 'E', 'S', 'T', 'E', 'L', 'E', '.', '.', 'R', 'E', 'A', 'S', 'O', 'N', 'E', 'R', 'T', 'O', 'R', 'O', 'S', '.', 'T', 'E', 'L', 'L', 'S', 'O', 'V', 'E', 'R', 'A', 'D', 'E', 'P', 'T', '.', 'E', 'T', 'A', 'L', '.', 'L', 'I', 'V', 'E', 'R', 'O', 'D', 'E', '.', '.', 'D', 'E', 'N', 'Y', '.', 'S', 'L', 'E', 'D'], 'gridnums': [1, 2, 3, 4, 0, 5, 6, 7, 8, 0, 0, 9, 10, 11, 12, 13, 0, 0, 0, 0, 14, 0, 0, 0, 0, 15, 0, 0, 0, 0, 16, 0, 0, 0, 17, 0, 0, 0, 0, 0, 18, 0, 0, 0, 0, 19, 0, 0, 0, 0, 0, 0, 0, 0, 0, 20, 0, 0, 0, 0, 21, 0, 0, 0, 0, 0, 0, 22, 23, 24, 0, 0, 0, 0, 0, 0, 0, 0, 0, 25, 26, 27, 0, 0, 0, 0, 28, 0, 29, 30, 31, 32, 33, 0, 34, 0, 0, 0, 0, 0, 0, 35, 0, 0, 0, 36, 0, 0, 37, 0, 0, 0, 0, 38, 0, 39, 0, 0, 0, 0, 40, 0, 0, 0, 0, 41, 0, 42, 0, 0, 0, 0, 43, 0, 0, 44, 0, 0, 0, 0, 45, 0, 0, 0, 0, 0, 0, 0, 0, 0, 0, 0, 46, 0, 47, 0, 0, 0, 0, 0, 48, 49, 50, 51, 52, 53, 54, 0, 0, 0, 0, 0, 55, 56, 57, 0, 0, 0, 0, 0, 58, 0, 0, 0, 0, 0, 59, 0, 0, 0, 0, 0, 0, 0, 0, 60, 0, 0, 0, 0, 0, 61, 0, 0, 0, 0, 62, 0, 0, 0, 63, 0, 0, 0, 0, 0, 64, 0, 0, 0, 0, 65, 0, 0, 0], 'hold': None, 'id': None, 'id2': None, 'interpretcolors': None, 'jnotes': None, 'key': None, 'mini': None, 'notepad': None, 'publisher': 'The New York Times', 'rbars': None, 'shadecircles': None, 'size': {'cols': 15, 'rows': 15}, 'title': 'NY TIMES, THU, FEB 02, 1978', 'track': None, 'type': None}\n"
     ]
    }
   ],
   "source": [
    "import json\n",
    "import os\n",
    "\n",
    "# Specify the path to your JSON file\n",
    "file_path = \"/Users/ishan/Desktop/cs224n/02.json\"\n",
    "\n",
    "# Check if the file exists and is not empty\n",
    "if os.path.exists(file_path) and os.path.getsize(file_path) > 0:\n",
    "    try:\n",
    "        # Open the JSON file and load its data\n",
    "        with open(file_path, 'r') as file:\n",
    "            data = json.load(file)\n",
    "        \n",
    "        # Now 'data' contains the JSON data as a Python dictionary\n",
    "        print(data)\n",
    "    except json.JSONDecodeError as e:\n",
    "        print(f\"Error decoding JSON: {e}\")\n",
    "    except Exception as e:\n",
    "        print(f\"An error occurred: {e}\")\n",
    "else:\n",
    "    print(\"File does not exist or is empty.\")"
   ]
  },
  {
   "cell_type": "code",
   "execution_count": 86,
   "id": "725969f9-f66a-404f-a7d6-812e35501eda",
   "metadata": {},
   "outputs": [
    {
     "name": "stdout",
     "output_type": "stream",
     "text": [
      "1 0\n",
      "5 4\n",
      "9 8\n",
      "13 12\n",
      "14 16\n",
      "15 20\n",
      "16 24\n",
      "18 28\n",
      "19 32\n",
      "20 36\n",
      "21 40\n",
      "22 44\n",
      "25 48\n",
      "28 52\n",
      "31 56\n",
      "34 60\n",
      "35 64\n",
      "36 68\n",
      "38 72\n",
      "40 76\n",
      "41 80\n",
      "43 84\n",
      "44 88\n",
      "45 92\n",
      "46 96\n",
      "48 100\n",
      "53 104\n",
      "55 108\n",
      "58 112\n",
      "59 116\n",
      "60 120\n",
      "61 124\n",
      "62 128\n",
      "63 132\n",
      "64 136\n",
      "65 140\n"
     ]
    }
   ],
   "source": [
    "updated_across_list = []\n",
    "acr = True\n",
    "dwn = False\n",
    "grid = data['gridnums']\n",
    "current_coordinate = [0, 0]\n",
    "word_number = 0\n",
    "\n",
    "for across_word in across_list:\n",
    "    parts = across_word.split('.')\n",
    "    number = parts[0]\n",
    "    if acr:\n",
    "        row = current_coordinate[0]\n",
    "        col = current_coordinate[1]\n",
    "        current_coordinate[0] += len(data['answers']['across'][word_number])\n",
    "        # col = int(number) % 15\n",
    "        # print(row, col)\n",
    "        print(number, row)\n",
    "    "
   ]
  },
  {
   "cell_type": "code",
   "execution_count": 99,
   "id": "97eb71fc-d4ed-4e4b-8881-5aa0255439f3",
   "metadata": {},
   "outputs": [
    {
     "name": "stdout",
     "output_type": "stream",
     "text": [
      "Across: Fennel or sweet cicely: [(0, 0), (0, 1), (0, 2), (0, 3)]\n",
      "Across: Eat ___ (suffer humiliation): [(0, 5), (0, 6), (0, 7), (0, 8)]\n",
      "Across: \"To ___ and to Hold,\" Johnston novel: [(0, 11), (0, 12), (0, 13), (0, 14)]\n",
      "Across: Cupid: [(1, 0), (1, 1), (1, 2), (1, 3)]\n",
      "Across: Lange from Conn.: [(1, 5), (1, 6), (1, 7), (1, 8)]\n",
      "Across: House sign: [(1, 10), (1, 11), (1, 12), (1, 13), (1, 14)]\n",
      "Across: What NOW wants women to be: [(2, 0), (2, 1), (2, 2), (2, 3), (2, 4), (2, 5), (2, 6), (2, 7), (2, 8)]\n",
      "Across: Ocean arm: [(2, 10), (2, 11), (2, 12), (2, 13), (2, 14)]\n",
      "Across: Follower of grain or freight: [(3, 0), (3, 1), (3, 2), (3, 3), (3, 4), (3, 5), (3, 6), (3, 7)]\n",
      "Across: Orleans's river: [(3, 10), (3, 11), (3, 12), (3, 13), (3, 14)]\n",
      "Across: ___ Cup (golf prize): [(4, 0), (4, 1), (4, 2), (4, 3), (4, 4)]\n",
      "Across: Boatman's backward: [(4, 7), (4, 8), (4, 9), (4, 10), (4, 11), (4, 12)]\n",
      "Across: March 26, 1978: [(5, 4), (5, 5), (5, 6), (5, 7), (5, 8), (5, 9)]\n",
      "Across: Pavlov: [(5, 11), (5, 12), (5, 13), (5, 14)]\n",
      "Across: Relative of a daboia: [(6, 0), (6, 1), (6, 2)]\n",
      "Across: Defraud: [(6, 4), (6, 5), (6, 6), (6, 7), (6, 8), (6, 9)]\n",
      "Across: Pram pusher: [(6, 11), (6, 12), (6, 13), (6, 14)]\n",
      "Across: Put off: [(7, 0), (7, 1), (7, 2), (7, 3), (7, 4), (7, 5), (7, 6)]\n",
      "Across: Describing eternal youth: [(7, 8), (7, 9), (7, 10), (7, 11), (7, 12), (7, 13), (7, 14)]\n",
      "Across: Pahlavi's country: [(8, 0), (8, 1), (8, 2), (8, 3)]\n",
      "Across: Cerberus et al.: [(8, 5), (8, 6), (8, 7), (8, 8), (8, 9), (8, 10)]\n",
      "Across: Aye neutralizer: [(8, 12), (8, 13), (8, 14)]\n",
      "Across: Put to the ___: [(9, 0), (9, 1), (9, 2), (9, 3)]\n",
      "Across: Passageway: [(9, 5), (9, 6), (9, 7), (9, 8), (9, 9), (9, 10)]\n",
      "Across: Madagascar mammal: [(10, 2), (10, 3), (10, 4), (10, 5), (10, 6), (10, 7)]\n",
      "Across: Storehouse of a sort: [(10, 10), (10, 11), (10, 12), (10, 13), (10, 14)]\n",
      "Across: Inscribed pillar: [(11, 0), (11, 1), (11, 2), (11, 3), (11, 4)]\n",
      "Across: Newscaster: [(11, 7), (11, 8), (11, 9), (11, 10), (11, 11), (11, 12), (11, 13), (11, 14)]\n",
      "Across: Bulls, in Barcelona: [(12, 0), (12, 1), (12, 2), (12, 3), (12, 4)]\n",
      "Across: Repeats a report: [(12, 6), (12, 7), (12, 8), (12, 9), (12, 10), (12, 11), (12, 12), (12, 13), (12, 14)]\n",
      "Across: Proficient: [(13, 0), (13, 1), (13, 2), (13, 3), (13, 4)]\n",
      "Across: Abbr. often used on deeds: [(13, 6), (13, 7), (13, 8), (13, 9)]\n",
      "Across: Kind of wire: [(13, 11), (13, 12), (13, 13), (13, 14)]\n",
      "Across: Harassed: [(14, 0), (14, 1), (14, 2), (14, 3)]\n",
      "Across: Abjure: [(14, 6), (14, 7), (14, 8), (14, 9)]\n",
      "Across: Pung or monoski: [(14, 11), (14, 12), (14, 13), (14, 14)]\n",
      "Down: Item in a Czech's wallet: [(0, 0), (1, 0), (2, 0), (3, 0), (4, 0)]\n",
      "Down: Girl in \"Our Town\": [(0, 1), (1, 1), (2, 1), (3, 1), (4, 1)]\n",
      "Down: Togate: [(0, 2), (1, 2), (2, 2), (3, 2), (4, 2)]\n",
      "Down: Longest modern musical note: [(0, 3), (1, 3), (2, 3), (3, 3), (4, 3)]\n",
      "Down: Converse idly: [(0, 5), (1, 5), (2, 5), (3, 5)]\n",
      "Down: Turning on an axis: Comb. form: [(0, 6), (1, 6), (2, 6), (3, 6)]\n",
      "Down: Work or run: [(0, 7), (1, 7), (2, 7), (3, 7), (4, 7), (5, 7), (6, 7)]\n",
      "Down: Join: [(0, 8), (1, 8), (2, 8)]\n",
      "Down: Paying homage to: [(0, 11), (1, 11), (2, 11), (3, 11), (4, 11), (5, 11), (6, 11), (7, 11)]\n",
      "Down: \"Mock on, mock on, 'tis ___\": Blake: [(0, 12), (1, 12), (2, 12), (3, 12), (4, 12), (5, 12), (6, 12), (7, 12), (8, 12)]\n",
      "Down: Change course: [(0, 13), (1, 13), (2, 13), (3, 13)]\n",
      "Down: Feminine suffix: [(0, 14), (1, 14), (2, 14), (3, 14)]\n",
      "Down: Mah-jongg piece: [(1, 10), (2, 10), (3, 10), (4, 10)]\n",
      "Down: Make thin or porous: [(2, 4), (3, 4), (4, 4), (5, 4), (6, 4), (7, 4)]\n",
      "Down: Safe: [(4, 8), (5, 8), (6, 8), (7, 8), (8, 8), (9, 8)]\n",
      "Down: Drifts: [(4, 9), (5, 9), (6, 9), (7, 9), (8, 9), (9, 9)]\n",
      "Down: Vinegar made from a liquor: [(5, 5), (6, 5), (7, 5), (8, 5), (9, 5), (10, 5)]\n",
      "Down: Lure: [(5, 6), (6, 6), (7, 6), (8, 6), (9, 6), (10, 6)]\n",
      "Down: Soprano Moffo: [(5, 13), (6, 13), (7, 13), (8, 13)]\n",
      "Down: Former Hungarian prime minister: [(5, 14), (6, 14), (7, 14), (8, 14)]\n",
      "Down: Mine entrance: [(6, 0), (7, 0), (8, 0), (9, 0)]\n",
      "Down: Sapless: [(6, 1), (7, 1), (8, 1), (9, 1)]\n",
      "Down: Three sheets to the wind: [(6, 2), (7, 2), (8, 2), (9, 2), (10, 2), (11, 2), (12, 2), (13, 2), (14, 2)]\n",
      "Down: Player on the range: [(7, 3), (8, 3), (9, 3), (10, 3), (11, 3), (12, 3), (13, 3), (14, 3)]\n",
      "Down: Rate or evaluate: [(7, 10), (8, 10), (9, 10), (10, 10), (11, 10), (12, 10)]\n",
      "Down: Adhere or combine: [(8, 7), (9, 7), (10, 7), (11, 7), (12, 7), (13, 7), (14, 7)]\n",
      "Down: Aerie, e.g.: [(10, 4), (11, 4), (12, 4), (13, 4)]\n",
      "Down: Puppets: [(10, 11), (11, 11), (12, 11), (13, 11), (14, 11)]\n",
      "Down: Famous \"Chorus\": [(10, 12), (11, 12), (12, 12), (13, 12), (14, 12)]\n",
      "Down: Irk: [(10, 13), (11, 13), (12, 13), (13, 13), (14, 13)]\n",
      "Down: Dropped a fly: [(10, 14), (11, 14), (12, 14), (13, 14), (14, 14)]\n",
      "Down: \"___ Wars\": [(11, 0), (12, 0), (13, 0), (14, 0)]\n",
      "Down: Foofaraw: [(11, 1), (12, 1), (13, 1), (14, 1)]\n",
      "Down: Dash: [(11, 8), (12, 8), (13, 8), (14, 8)]\n",
      "Down: Confederate: [(11, 9), (12, 9), (13, 9), (14, 9)]\n",
      "Down: Kennedy or Heath: [(12, 6), (13, 6), (14, 6)]\n"
     ]
    }
   ],
   "source": [
    "def get_row_col(index):\n",
    "    \"\"\"Convert a flat index to (row, col) in a 15x15 grid.\"\"\"\n",
    "    row = index // 15\n",
    "    col = index % 15\n",
    "    return row, col\n",
    "\n",
    "def get_coordinates(clue_index, direction, length, gridnums):\n",
    "    \n",
    "    if clue_index not in gridnums:\n",
    "        return []\n",
    "    \n",
    "    start_index = gridnums.index(clue_index)\n",
    "    start_row, start_col = get_row_col(start_index)\n",
    "    \n",
    "    coordinates = [(start_row, start_col)]\n",
    "    for i in range(1, length):\n",
    "        if direction == 'across':\n",
    "            coordinates.append((start_row, start_col + i))\n",
    "        elif direction == 'down':\n",
    "            coordinates.append((start_row + i, start_col))\n",
    "    return coordinates\n",
    "\n",
    "def parse_clue(clue):\n",
    "    \n",
    "    index_str, clue_text = clue.split('.', 1)\n",
    "    return int(index_str), clue_text.strip()\n",
    "\n",
    "def get_all_coordinates(clues, answers, gridnums, direction):\n",
    "    \n",
    "    coordinates_dict = {}\n",
    "    for clue, answer in zip(clues, answers):\n",
    "        clue_index, clue_text = parse_clue(clue)\n",
    "        coordinates = get_coordinates(clue_index, direction, len(answer), gridnums)\n",
    "        coordinates_dict[clue_text] = coordinates\n",
    "    return coordinates_dict\n",
    "\n",
    "gridnums = data['gridnums']  \n",
    "across_clues = data['clues']['across']  \n",
    "across_answers = data['answers']['across']  \n",
    "down_clues = data['clues']['down'] \n",
    "down_answers = data['answers']['down'] \n",
    "\n",
    "across_coordinates = get_all_coordinates(across_clues, across_answers, gridnums, 'across')\n",
    "down_coordinates = get_all_coordinates(down_clues, down_answers, gridnums, 'down')\n",
    "\n",
    "\n",
    "for clue, coords in across_coordinates.items():\n",
    "    print(f\"Across: {clue}: {coords}\")\n",
    "for clue, coords in down_coordinates.items():\n",
    "    print(f\"Down: {clue}: {coords}\")\n"
   ]
  },
  {
   "cell_type": "code",
   "execution_count": null,
   "id": "3dcb875c-75d1-48f5-9f74-bd7ef14d6197",
   "metadata": {},
   "outputs": [],
   "source": []
  }
 ],
 "metadata": {
  "kernelspec": {
   "display_name": "cs224n",
   "language": "python",
   "name": "cs224n"
  },
  "language_info": {
   "codemirror_mode": {
    "name": "ipython",
    "version": 3
   },
   "file_extension": ".py",
   "mimetype": "text/x-python",
   "name": "python",
   "nbconvert_exporter": "python",
   "pygments_lexer": "ipython3",
   "version": "3.12.2"
  }
 },
 "nbformat": 4,
 "nbformat_minor": 5
}
