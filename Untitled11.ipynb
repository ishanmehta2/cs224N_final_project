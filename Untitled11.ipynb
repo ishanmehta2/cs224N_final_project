{
 "cells": [
  {
   "cell_type": "code",
   "execution_count": 75,
   "id": "f6adcfd6",
   "metadata": {},
   "outputs": [],
   "source": [
    "import numpy as np"
   ]
  },
  {
   "cell_type": "code",
   "execution_count": 76,
   "id": "9b8ec484",
   "metadata": {},
   "outputs": [
    {
     "name": "stdout",
     "output_type": "stream",
     "text": [
      "{'acrossmap': None, 'admin': False, 'answers': {'across': ['PLAYTEX', 'DOLAPS', 'VICTORY', 'ARAPAHO', 'TENDRIL', 'WIMOWEH', 'SUE', 'TEEN', 'FELLAS', 'COSMOGIRL', 'ASSAI', 'ROC', 'OCTA', 'STOPS', 'STRETCHES', 'HENIE', 'CHE', 'IRISH', 'BAITSHOPS', 'MENLO', 'YMCA', 'ANO', 'BEGAT', 'LEVELHEAD', 'REGGAE', 'EARL', 'NTH', 'AVIATOR', 'UNAWARE', 'PATIENT', 'NINEVEH', 'CANNES', 'TEDDIES'], 'down': ['PVTS', 'LIEU', 'ACNE', 'YTD', 'TORTOISES', 'ERIES', 'XYLEM', 'DAW', 'ORIFICE', 'LAMER', 'APOLLOCREED', 'PAWL', 'SHEA', 'OHS', 'NORTHPOLE', 'CAPITALGAIN', 'GORES', 'ASHBY', 'STEAM', 'SONIC', 'CHING', 'TESLA', 'ASHOT', 'SCONE', 'TIMBALAND', 'HAVEONE', 'EATEN', 'HAUNT', 'ERNIE', 'RAP', 'EVAC', 'GITA', 'NAVI', 'TREE', 'HEHS', 'RTS', 'WED']}, 'author': 'Gareth Bain', 'autowrap': None, 'bbars': None, 'circles': None, 'clues': {'across': ['1. HanesBrands brand', '8. Exercise in a pool', '14. General goal?', '15. Tribe whose name means \"those with many tattoos\"', '17. Feeler, of sorts', '18. Title under which \"The Lion Sleeps Tonight\" originally charted, in 1952', \"19. Name for the T. rex at Chicago's Field Museum\", \"20. 23-Across's target reader\", '22. Chaps', '23. Bygone 20-Across fashion magazine', '25. Musical intensifier', '28. Mythical predator of elephants', '29. Numerical prefix', '33. Stations', '34. Highway sections', '36. Skating gold medalist of 1928, 1932 and 1936', '37. Figure in a beret', '38. ___ Derby, annual sporting event since 1866', '39. Grub sellers', '41. ___ Park', '42. Geneva-based org. encouraging healthy living', '43. One of 100 in un siglo', '44. Word appearing 39 times in the King James Version of Matthew 1', '45. Composure', '49. Genre of the double-platinum box set \"Songs of Freedom\"', '52. One going to court?', '53. Utmost', '56. Post, e.g.', '58. Napping', '60. Job-like', '61. City where Jonah preached', \"62. Cote d'Azur town\", '63. Nightwear'], 'down': ['1. E-1s and E-2s, in the Army: Abbr.', '2. Place', '3. High-school spots?', '4. Financial statement abbr.', \"5. They bite but don't have teeth\", '6. Great Lakes natives', '7. Upward-flowing plant vessels', '8. Black bird', '9. Pore, e.g.', '10. Popular Debussy piece', '11. Fictional boxer a k a The Count of Monte Fisto', '12. Machine part connecting to a gearwheel', '13. New York Jets home from 1964 to 1983', '16. Quizzical cries', '21. Top of the charts?', '23. Amount of appreciation, maybe', '24. Is piercing', '25. \"Shampoo\" director', '26. Tick off', '27. Sega mascot', '30. \"I ___\"', '31. Unit of magnetic flux density', '32. Have ___ at', '34. Latte go-with', '35. Hip-hop producer for Jay-Z, LL Cool J and Missy Elliott', '40. \"Try it!\"', '46. Not left over', '47. Frequent', '48. \"Journey to ___\" (recurring \"Sesame Street\" segment)', '49. Criticize', '50. \"M*A*S*H\" maneuver, for short', '51. Bhagavad ___ (Hindu scripture)', '53. Riders on Direhorses in \"Avatar\"', '54. Certain diagram', '55. Little chortles', '57. Some football linemen: Abbr.', '59. Jump the broom, so to speak']}, 'code': None, 'copyright': '2013, The New York Times', 'date': '2/2/2013', 'dow': 'Saturday', 'downmap': None, 'editor': 'Will Shortz', 'grid': ['P', 'L', 'A', 'Y', 'T', 'E', 'X', '.', 'D', 'O', 'L', 'A', 'P', 'S', '.', 'V', 'I', 'C', 'T', 'O', 'R', 'Y', '.', 'A', 'R', 'A', 'P', 'A', 'H', 'O', 'T', 'E', 'N', 'D', 'R', 'I', 'L', '.', 'W', 'I', 'M', 'O', 'W', 'E', 'H', 'S', 'U', 'E', '.', 'T', 'E', 'E', 'N', '.', 'F', 'E', 'L', 'L', 'A', 'S', '.', '.', '.', 'C', 'O', 'S', 'M', 'O', 'G', 'I', 'R', 'L', '.', '.', '.', 'A', 'S', 'S', 'A', 'I', '.', '.', 'R', 'O', 'C', '.', 'O', 'C', 'T', 'A', 'S', 'T', 'O', 'P', 'S', '.', 'S', 'T', 'R', 'E', 'T', 'C', 'H', 'E', 'S', 'H', 'E', 'N', 'I', 'E', '.', 'C', 'H', 'E', '.', 'I', 'R', 'I', 'S', 'H', 'B', 'A', 'I', 'T', 'S', 'H', 'O', 'P', 'S', '.', 'M', 'E', 'N', 'L', 'O', 'Y', 'M', 'C', 'A', '.', 'A', 'N', 'O', '.', '.', 'B', 'E', 'G', 'A', 'T', '.', '.', '.', 'L', 'E', 'V', 'E', 'L', 'H', 'E', 'A', 'D', '.', '.', '.', 'R', 'E', 'G', 'G', 'A', 'E', '.', 'E', 'A', 'R', 'L', '.', 'N', 'T', 'H', 'A', 'V', 'I', 'A', 'T', 'O', 'R', '.', 'U', 'N', 'A', 'W', 'A', 'R', 'E', 'P', 'A', 'T', 'I', 'E', 'N', 'T', '.', 'N', 'I', 'N', 'E', 'V', 'E', 'H', '.', 'C', 'A', 'N', 'N', 'E', 'S', '.', 'T', 'E', 'D', 'D', 'I', 'E', 'S'], 'gridnums': [1, 2, 3, 4, 5, 6, 7, 0, 8, 9, 10, 11, 12, 13, 0, 14, 0, 0, 0, 0, 0, 0, 0, 15, 0, 0, 0, 0, 0, 16, 17, 0, 0, 0, 0, 0, 0, 0, 18, 0, 0, 0, 0, 0, 0, 19, 0, 0, 0, 20, 0, 0, 21, 0, 22, 0, 0, 0, 0, 0, 0, 0, 0, 23, 0, 0, 0, 0, 24, 0, 0, 0, 0, 0, 0, 25, 26, 27, 0, 0, 0, 0, 28, 0, 0, 0, 29, 30, 31, 32, 33, 0, 0, 0, 0, 0, 34, 0, 0, 0, 35, 0, 0, 0, 0, 36, 0, 0, 0, 0, 0, 37, 0, 0, 0, 38, 0, 0, 0, 0, 39, 0, 0, 0, 0, 40, 0, 0, 0, 0, 41, 0, 0, 0, 0, 42, 0, 0, 0, 0, 43, 0, 0, 0, 0, 44, 0, 0, 0, 0, 0, 0, 0, 45, 46, 0, 0, 0, 47, 48, 0, 0, 0, 0, 0, 49, 50, 51, 0, 0, 0, 0, 52, 0, 0, 0, 0, 53, 54, 55, 56, 0, 0, 0, 0, 0, 57, 0, 58, 0, 0, 59, 0, 0, 0, 60, 0, 0, 0, 0, 0, 0, 0, 61, 0, 0, 0, 0, 0, 0, 0, 62, 0, 0, 0, 0, 0, 0, 63, 0, 0, 0, 0, 0, 0], 'hold': None, 'id': None, 'id2': None, 'interpretcolors': None, 'jnotes': None, 'key': None, 'mini': None, 'notepad': None, 'publisher': 'The New York Times', 'rbars': None, 'shadecircles': None, 'size': {'cols': 15, 'rows': 15}, 'title': 'NY TIMES, SAT, FEB 02, 2013', 'track': None, 'type': None}\n"
     ]
    }
   ],
   "source": [
    "import json\n",
    "import os\n",
    "\n",
    "# Specify the path to your JSON file\n",
    "file_path = \"/Users/ohmpatel/Downloads/02.json\"\n",
    "\n",
    "# Check if the file exists and is not empty\n",
    "if os.path.exists(file_path) and os.path.getsize(file_path) > 0:\n",
    "    try:\n",
    "        # Open the JSON file and load its data\n",
    "        with open(file_path, 'r') as file:\n",
    "            data = json.load(file)\n",
    "        \n",
    "        # Now 'data' contains the JSON data as a Python dictionary\n",
    "        print(data)\n",
    "    except json.JSONDecodeError as e:\n",
    "        print(f\"Error decoding JSON: {e}\")\n",
    "    except Exception as e:\n",
    "        print(f\"An error occurred: {e}\")\n",
    "else:\n",
    "    print(\"File does not exist or is empty.\")"
   ]
  },
  {
   "cell_type": "code",
   "execution_count": 77,
   "id": "7fa9dfdf",
   "metadata": {},
   "outputs": [
    {
     "data": {
      "text/plain": [
       "'Y'"
      ]
     },
     "execution_count": 77,
     "metadata": {},
     "output_type": "execute_result"
    }
   ],
   "source": [
    "data['grid'][3]"
   ]
  },
  {
   "cell_type": "code",
   "execution_count": 79,
   "id": "86baac91",
   "metadata": {},
   "outputs": [
    {
     "ename": "SyntaxError",
     "evalue": "expected ':' (2162014031.py, line 4)",
     "output_type": "error",
     "traceback": [
      "\u001b[0;36m  Cell \u001b[0;32mIn[79], line 4\u001b[0;36m\u001b[0m\n\u001b[0;31m    if i + 1\u001b[0m\n\u001b[0m             ^\u001b[0m\n\u001b[0;31mSyntaxError\u001b[0m\u001b[0;31m:\u001b[0m expected ':'\n"
     ]
    }
   ],
   "source": [
    "x = np.empty((15, 15), dtype='str')\n",
    "j = 0\n",
    "for i in range(len(data['grid'])):\n",
    "    if i + 1 "
   ]
  },
  {
   "cell_type": "code",
   "execution_count": 80,
   "id": "8f52ebcc",
   "metadata": {},
   "outputs": [
    {
     "data": {
      "text/plain": [
       "array([['P', 'L', 'A', 'Y', 'T', 'E', 'X', '.', 'D', 'O', 'L', 'A', 'P',\n",
       "        'S', '.'],\n",
       "       ['V', 'I', 'C', 'T', 'O', 'R', 'Y', '.', 'A', 'R', 'A', 'P', 'A',\n",
       "        'H', 'O'],\n",
       "       ['T', 'E', 'N', 'D', 'R', 'I', 'L', '.', 'W', 'I', 'M', 'O', 'W',\n",
       "        'E', 'H'],\n",
       "       ['S', 'U', 'E', '.', 'T', 'E', 'E', 'N', '.', 'F', 'E', 'L', 'L',\n",
       "        'A', 'S'],\n",
       "       ['.', '.', '.', 'C', 'O', 'S', 'M', 'O', 'G', 'I', 'R', 'L', '.',\n",
       "        '.', '.'],\n",
       "       ['A', 'S', 'S', 'A', 'I', '.', '.', 'R', 'O', 'C', '.', 'O', 'C',\n",
       "        'T', 'A'],\n",
       "       ['S', 'T', 'O', 'P', 'S', '.', 'S', 'T', 'R', 'E', 'T', 'C', 'H',\n",
       "        'E', 'S'],\n",
       "       ['H', 'E', 'N', 'I', 'E', '.', 'C', 'H', 'E', '.', 'I', 'R', 'I',\n",
       "        'S', 'H'],\n",
       "       ['B', 'A', 'I', 'T', 'S', 'H', 'O', 'P', 'S', '.', 'M', 'E', 'N',\n",
       "        'L', 'O'],\n",
       "       ['Y', 'M', 'C', 'A', '.', 'A', 'N', 'O', '.', '.', 'B', 'E', 'G',\n",
       "        'A', 'T'],\n",
       "       ['.', '.', '.', 'L', 'E', 'V', 'E', 'L', 'H', 'E', 'A', 'D', '.',\n",
       "        '.', '.'],\n",
       "       ['R', 'E', 'G', 'G', 'A', 'E', '.', 'E', 'A', 'R', 'L', '.', 'N',\n",
       "        'T', 'H'],\n",
       "       ['A', 'V', 'I', 'A', 'T', 'O', 'R', '.', 'U', 'N', 'A', 'W', 'A',\n",
       "        'R', 'E'],\n",
       "       ['P', 'A', 'T', 'I', 'E', 'N', 'T', '.', 'N', 'I', 'N', 'E', 'V',\n",
       "        'E', 'H'],\n",
       "       ['.', 'C', 'A', 'N', 'N', 'E', 'S', '.', 'T', 'E', 'D', 'D', 'I',\n",
       "        'E', 'S']], dtype='<U1')"
      ]
     },
     "execution_count": 80,
     "metadata": {},
     "output_type": "execute_result"
    }
   ],
   "source": [
    "np.array(data['grid'], dtype='str').reshape((15, 15))"
   ]
  },
  {
   "cell_type": "code",
   "execution_count": 81,
   "id": "c97f70df",
   "metadata": {},
   "outputs": [
    {
     "data": {
      "text/plain": [
       "dict_keys(['acrossmap', 'admin', 'answers', 'author', 'autowrap', 'bbars', 'circles', 'clues', 'code', 'copyright', 'date', 'dow', 'downmap', 'editor', 'grid', 'gridnums', 'hold', 'id', 'id2', 'interpretcolors', 'jnotes', 'key', 'mini', 'notepad', 'publisher', 'rbars', 'shadecircles', 'size', 'title', 'track', 'type'])"
      ]
     },
     "execution_count": 81,
     "metadata": {},
     "output_type": "execute_result"
    }
   ],
   "source": [
    "data.keys()"
   ]
  },
  {
   "cell_type": "code",
   "execution_count": 82,
   "id": "6fed9419",
   "metadata": {},
   "outputs": [
    {
     "data": {
      "text/plain": [
       "array([['1', '2', '3', '4', '5', '6', '7', '0', '8', '9', '10', '11',\n",
       "        '12', '13', '0'],\n",
       "       ['14', '0', '0', '0', '0', '0', '0', '0', '15', '0', '0', '0',\n",
       "        '0', '0', '16'],\n",
       "       ['17', '0', '0', '0', '0', '0', '0', '0', '18', '0', '0', '0',\n",
       "        '0', '0', '0'],\n",
       "       ['19', '0', '0', '0', '20', '0', '0', '21', '0', '22', '0', '0',\n",
       "        '0', '0', '0'],\n",
       "       ['0', '0', '0', '23', '0', '0', '0', '0', '24', '0', '0', '0',\n",
       "        '0', '0', '0'],\n",
       "       ['25', '26', '27', '0', '0', '0', '0', '28', '0', '0', '0', '29',\n",
       "        '30', '31', '32'],\n",
       "       ['33', '0', '0', '0', '0', '0', '34', '0', '0', '0', '35', '0',\n",
       "        '0', '0', '0'],\n",
       "       ['36', '0', '0', '0', '0', '0', '37', '0', '0', '0', '38', '0',\n",
       "        '0', '0', '0'],\n",
       "       ['39', '0', '0', '0', '0', '40', '0', '0', '0', '0', '41', '0',\n",
       "        '0', '0', '0'],\n",
       "       ['42', '0', '0', '0', '0', '43', '0', '0', '0', '0', '44', '0',\n",
       "        '0', '0', '0'],\n",
       "       ['0', '0', '0', '45', '46', '0', '0', '0', '47', '48', '0', '0',\n",
       "        '0', '0', '0'],\n",
       "       ['49', '50', '51', '0', '0', '0', '0', '52', '0', '0', '0', '0',\n",
       "        '53', '54', '55'],\n",
       "       ['56', '0', '0', '0', '0', '0', '57', '0', '58', '0', '0', '59',\n",
       "        '0', '0', '0'],\n",
       "       ['60', '0', '0', '0', '0', '0', '0', '0', '61', '0', '0', '0',\n",
       "        '0', '0', '0'],\n",
       "       ['0', '62', '0', '0', '0', '0', '0', '0', '63', '0', '0', '0',\n",
       "        '0', '0', '0']], dtype='<U2')"
      ]
     },
     "execution_count": 82,
     "metadata": {},
     "output_type": "execute_result"
    }
   ],
   "source": [
    "np.array(data['gridnums'], dtype='str').reshape((15, 15))"
   ]
  },
  {
   "cell_type": "code",
   "execution_count": 83,
   "id": "92e2ee8c",
   "metadata": {},
   "outputs": [],
   "source": [
    "def clean(text):\n",
    "    '''\n",
    "    :param text: question or answer text\n",
    "    :return: text with line breaks and trailing spaces removed\n",
    "    '''\n",
    "    return \" \".join(text.strip().split())\n",
    "\n",
    "\n",
    "class Crossword:\n",
    "    \"\"\"\n",
    "    This class defines a crossword datastructure which stores a puzzle solution and contains maps between words,\n",
    "    crossing words, and the grid cells they contain. During initialization, this class takes a JSON representation\n",
    "    of the crossword that matches our data scraper's specification.\n",
    "\n",
    "    Args:\n",
    "        data (dict): JSON representation of crossword data\n",
    "\n",
    "    Attributes:\n",
    "        self.letter_grid (list): 2D array representing gold crossword solution\n",
    "        self.number_grid (list): 2D array with numbers representing beginnings of clues\n",
    "        self.variables (dict): mapping from clues to gold answers, cells, and intersecting clues\n",
    "    \"\"\"\n",
    "    def __init__(self, data):\n",
    "        self.initialize_grids(grid=data[\"grid\"])\n",
    "        self.initialize_clues(clues=data[\"clues\"])\n",
    "        self.initialize_variables()\n",
    "\n",
    "    def initialize_grids(self, grid):\n",
    "        self.letter_grid = [[grid[j][i][1] if type(grid[j][i]) == list else \"\" for i in\n",
    "                             range(len(grid[0]))] for j in range(len(grid))]\n",
    "        self.number_grid = [[grid[j][i][0] if type(grid[j][i]) == list else \"\" for i in\n",
    "                             range(len(grid[0]))] for j in range(len(grid))]\n",
    "        self.grid_cells = {}\n",
    "\n",
    "    def initialize_clues(self, clues):\n",
    "        self.across = clues[\"across\"]\n",
    "        self.down = clues[\"down\"]\n",
    "\n",
    "    def initialize_variable(self, position, clues, across=True):\n",
    "        row, col = position\n",
    "        cell_number = self.number_grid[row][col]\n",
    "        assert cell_number in clues, print(\"Missing clue\")\n",
    "        word_id = cell_number + \"A\" if across else cell_number + \"D\"\n",
    "        clue = clean(clues[cell_number][0])\n",
    "        answer = clean(clues[cell_number][1])\n",
    "        for idx in range(len(answer)):\n",
    "            cell = (row, col + idx) if across else (row + idx, col)\n",
    "            if cell in self.grid_cells:\n",
    "                self.grid_cells[cell].append(word_id)\n",
    "            else:\n",
    "                self.grid_cells[cell] = [word_id]\n",
    "            if word_id in self.variables:\n",
    "                self.variables[word_id][\"cells\"].append(cell)\n",
    "            else:\n",
    "                self.variables[word_id] = {\"clue\": clue, \"gold\": answer, \"cells\": [cell], \"crossing\": []}\n",
    "\n",
    "    def initialize_crossing(self):\n",
    "        for word_id in self.variables:\n",
    "            cells = self.variables[word_id][\"cells\"]\n",
    "            crossing_ids = []\n",
    "            for cell in cells:\n",
    "                crossing_ids += list(filter(lambda x: x!= word_id, self.grid_cells[cell]))\n",
    "            self.variables[word_id][\"crossing\"] = crossing_ids\n",
    "\n",
    "    def initialize_variables(self):\n",
    "        self.variables = {}\n",
    "        for row in range(len(self.number_grid)):\n",
    "            for col in range(len(self.number_grid[0])):\n",
    "                cell_number = self.number_grid[row][col]\n",
    "                if self.number_grid[row][col] != \"\":\n",
    "                    if cell_number in self.across:\n",
    "                        self.initialize_variable((row, col), self.across, across=True)\n",
    "                    if cell_number in self.down:\n",
    "                        self.initialize_variable((row, col), self.down, across=False)\n",
    "        self.initialize_crossing()"
   ]
  },
  {
   "cell_type": "code",
   "execution_count": 84,
   "id": "c89d2923",
   "metadata": {},
   "outputs": [],
   "source": [
    "trial = Crossword(data)"
   ]
  },
  {
   "cell_type": "code",
   "execution_count": 85,
   "id": "79133014",
   "metadata": {},
   "outputs": [],
   "source": [
    "trial.initialize_grids(data['grid'])"
   ]
  },
  {
   "cell_type": "code",
   "execution_count": 86,
   "id": "84cbbb31",
   "metadata": {},
   "outputs": [],
   "source": [
    "data['acrossmap']"
   ]
  },
  {
   "cell_type": "code",
   "execution_count": 87,
   "id": "c9539a41",
   "metadata": {},
   "outputs": [
    {
     "data": {
      "image/png": "[encoded data removed]",
      "text/plain": [
       "<Figure size 1200x500 with 1 Axes>"
      ]
     },
     "metadata": {},
     "output_type": "display_data"
    }
   ],
   "source": [
    "import numpy as np\n",
    "import matplotlib.pyplot as plt\n",
    "\n",
    "# Given 15x15 array\n",
    "crossword = np.array(data['gridnums'], dtype='str').reshape((15, 15))\n",
    "\n",
    "# Create a figure and axis\n",
    "fig, ax = plt.subplots(figsize=(12, 5))\n",
    "\n",
    "# Hide the axes\n",
    "ax.axis('off')\n",
    "\n",
    "# Add a table to the plot\n",
    "table = plt.table(cellText=crossword, cellLoc='center', loc='center', edges='closed')\n",
    "\n",
    "# Set font properties for the table\n",
    "table.auto_set_font_size(False)\n",
    "table.set_fontsize(10)\n",
    "table.scale(1, 1)\n",
    "\n",
    "# Highlight the black cells\n",
    "for i in range(15):\n",
    "    for j in range(15):\n",
    "        if crossword[i, j] == '0':\n",
    "            table[(i, j)].set_facecolor('black')\n",
    "        else:\n",
    "            table[(i, j)].set_facecolor('white')\n",
    "\n",
    "# Adjust the size of the cells to make them square\n",
    "table.auto_set_column_width(col=list(range(15))) # Make each column width the same\n",
    "table.scale(1, 1.5) # Adjust the scale to ensure square cells\n",
    "\n",
    "plt.show()\n"
   ]
  },
  {
   "cell_type": "code",
   "execution_count": null,
   "id": "a1b9268f",
   "metadata": {},
   "outputs": [],
   "source": []
  },
  {
   "cell_type": "code",
   "execution_count": 92,
   "id": "b128dbc1",
   "metadata": {},
   "outputs": [
    {
     "data": {
      "image/png": "[encoded data removed]",
      "text/plain": [
       "<Figure size 1000x1000 with 1 Axes>"
      ]
     },
     "metadata": {},
     "output_type": "display_data"
    }
   ],
   "source": [
    "import numpy as np\n",
    "import matplotlib.pyplot as plt\n",
    "import seaborn as sns\n",
    "\n",
    "# Given 15x15 array\n",
    "crossword = np.array(data['grid'], dtype='str').reshape((15, 15))\n",
    "\n",
    "# Function to plot the crossword puzzle\n",
    "def plot_crossword(grid):\n",
    "    fig, ax = plt.subplots(figsize=(10, 10))\n",
    "    \n",
    "    # Create a heatmap with white color and no grid lines\n",
    "    sns.heatmap(grid != '.', cbar=False, square=True, linewidths=.5, linecolor='black', cmap=['black', 'white'], ax=ax)\n",
    "    \n",
    "    # Annotate the cells with the numbers\n",
    "    for i in range(grid.shape[0]):\n",
    "        for j in range(grid.shape[1]):\n",
    "            if grid[i, j] != '0':\n",
    "                ax.text(j + 0.5, i + 0.5, grid[i, j], \n",
    "                        horizontalalignment='center', \n",
    "                        verticalalignment='center',\n",
    "                        fontsize=8,\n",
    "                        color='black')\n",
    "    \n",
    "    # Remove axis labels and ticks\n",
    "    ax.set_xticks([])\n",
    "    ax.set_yticks([])\n",
    "    \n",
    "    plt.show()\n",
    "\n",
    "# Plot the crossword puzzle\n",
    "plot_crossword(crossword)\n"
   ]
  },
  {
   "cell_type": "code",
   "execution_count": null,
   "id": "86a9deca",
   "metadata": {},
   "outputs": [],
   "source": [
    "# rough plan for attempting to solve a grid\n",
    "\n",
    "# come up with initial guesses for all clues\n",
    "\n",
    "# compute cosine similarity between clues and guess, rank pairs by order of highest similarity\n",
    "\n",
    "# for words with no overlap, fill in best non-cosines\n",
    "\n",
    "# recompute guesses with filled in characters, rank pairs by order of highest similarity\n",
    "\n"
   ]
  }
 ],
 "metadata": {
  "kernelspec": {
   "display_name": "cs224n",
   "language": "python",
   "name": "cs224n"
  },
  "language_info": {
   "codemirror_mode": {
    "name": "ipython",
    "version": 3
   },
   "file_extension": ".py",
   "mimetype": "text/x-python",
   "name": "python",
   "nbconvert_exporter": "python",
   "pygments_lexer": "ipython3",
   "version": "3.12.2"
  }
 },
 "nbformat": 4,
 "nbformat_minor": 5
}
